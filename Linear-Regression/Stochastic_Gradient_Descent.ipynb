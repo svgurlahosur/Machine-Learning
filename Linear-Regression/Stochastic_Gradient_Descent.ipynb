{
  "nbformat": 4,
  "nbformat_minor": 0,
  "metadata": {
    "colab": {
      "provenance": []
    },
    "kernelspec": {
      "name": "python3",
      "display_name": "Python 3"
    },
    "language_info": {
      "name": "python"
    }
  },
  "cells": [
    {
      "cell_type": "markdown",
      "source": [
        "### **1. Data Collection**"
      ],
      "metadata": {
        "id": "ywUbGogrAGuy"
      }
    },
    {
      "cell_type": "code",
      "source": [
        "#import essential library to load dataset\n",
        "import pandas as pd\n",
        "#importing the dataset\n",
        "train_dataset = pd.read_csv('./dataset/train_salary.csv')\n",
        "test_dataset = pd.read_csv('./dataset/test_salary.csv')\n",
        "#copy of training dataset excluding the last column\n",
        "train_input = train_dataset.iloc[:, :-1].values\n",
        "#copy of last column from training dataset\n",
        "train_output = train_dataset.iloc[:, -1].values\n",
        "#copy of testing dataset excluding the last column\n",
        "test_input = test_dataset.iloc[:, :-1].values\n",
        "#copy of last column from testing dataset\n",
        "test_output = test_dataset.iloc[:, -1].values"
      ],
      "metadata": {
        "id": "AnooLAAMi-Ne"
      },
      "execution_count": 15,
      "outputs": []
    },
    {
      "cell_type": "markdown",
      "source": [
        "### **2. Model/hypothesis represenation**"
      ],
      "metadata": {
        "id": "qrvwbLzmASzk"
      }
    },
    {
      "cell_type": "code",
      "source": [
        "def hypothesis(sample, parameter):\n",
        "    pred_output = parameter[0] #calculate theta0*x0 (x0 value is 1)\n",
        "    for n in range(len(sample)):#calculate the number of features\n",
        "        pred_output += parameter[n+1] * float((sample[n])) #calculate theta1*x1 + theta2*x2 .. . .thetan*xn\n",
        "    return pred_output"
      ],
      "metadata": {
        "id": "QXUvPayQANgY"
      },
      "execution_count": 16,
      "outputs": []
    },
    {
      "cell_type": "markdown",
      "source": [
        "### **3. Cost function**"
      ],
      "metadata": {
        "id": "8VuPEzRxAWsA"
      }
    },
    {
      "cell_type": "code",
      "source": [
        "def cost(pred_output,actual_output,m):\n",
        "  error = (pred_output - float(actual_output))\n",
        "  mse_error = (1/2*m) * (error**2) #m value is 1 since it is stochastic gradient optimization\n",
        "  return error,mse_error #error value is for parameter updation and mse_error is to measure the average error at every epoch"
      ],
      "metadata": {
        "id": "SKxjuAXYi-Q2"
      },
      "execution_count": 17,
      "outputs": []
    },
    {
      "cell_type": "markdown",
      "source": [
        "### **4. Optimization of model parameters**"
      ],
      "metadata": {
        "id": "08ZZLSN_AZeE"
      }
    },
    {
      "cell_type": "code",
      "source": [
        "def gradient_descent(error,parameters,learning_rate,sample):\n",
        "  parameters[0] = parameters[0] - (learning_rate * error) #update theta0\n",
        "  for n in range(sample.size): #calculate the number of features\n",
        "    parameters[n + 1] = parameters[n + 1] - (learning_rate * error * float(sample[n])) #update theta1, theta2, , ,, depending upon the number of features\n",
        "  return parameters #return the updated paremeters"
      ],
      "metadata": {
        "id": "ppHALR76i-Tp"
      },
      "execution_count": 18,
      "outputs": []
    },
    {
      "cell_type": "markdown",
      "source": [
        "### **5. Stochastic gradient descent:**"
      ],
      "metadata": {
        "id": "-uGJ-bVQAcJY"
      }
    },
    {
      "cell_type": "code",
      "source": [
        "def optimization(training_input,training_output,testing_input,testing_output,learning_rate,parameters,epochs,m):\n",
        "  best_error = 99999999999\n",
        "  for epoch in range(epochs):\n",
        "    total_error = 0\n",
        "    test_error = 0\n",
        "    for sample, actutal_output in zip(training_input,training_output):#iterate through the training dataset\n",
        "      predicted_output = hypothesis(sample,parameters) #calculate the per sample predicted output\n",
        "      error,mse_error = cost(predicted_output,actutal_output,m) #calculate error for each training sample\n",
        "      parameters = gradient_descent(error,parameters,learning_rate,sample) # update the model parameters\n",
        "      total_error += mse_error #sumup the error from each training sample\n",
        "    total_error = (total_error/len(train_input)) #average error\n",
        "    train_error_list.append(total_error) #append the total error from every epoch to list\n",
        "    #epochs_num.append(epoch+1)\n",
        "    testing_error = test_model(testing_input,testing_output,parameters,m) #calculate the error for every testing sample\n",
        "    test_error += testing_error #sumup the error from each testing sample\n",
        "    test_error_list.append(test_error)#append the total error from every epoch to list\n",
        "    if ((epoch+1)%2000==0):#print training progress after every 2000 epochs and replace 2000 by 1 to print progress after every epoch\n",
        "      print(\"Epoch:\",epoch+1, \"Training error:\",total_error, \"Testing_error:\",test_error, \"Parameters:\",parameters)\n",
        "    if(best_error > test_error and test_error>=0.0): #copy the best parameter values along with epoch number and testing error for the least testing error during the training\n",
        "      best_error=test_error\n",
        "      best_epoch=epoch+1\n",
        "      best_parameters=parameters\n",
        "  return best_error,best_epoch,best_parameters"
      ],
      "metadata": {
        "id": "3Km7nP4Pi-WR"
      },
      "execution_count": 19,
      "outputs": []
    },
    {
      "cell_type": "markdown",
      "source": [
        "### **6. Model testing**"
      ],
      "metadata": {
        "id": "pVMQIKCUArSn"
      }
    },
    {
      "cell_type": "code",
      "source": [
        "def test_model(testing_input,testing_output,parameters,m):\n",
        "  total_error = 0\n",
        "  for sample, actutal_output in zip(testing_input,testing_output):#iterate through the testing dataset\n",
        "    predicted_output = hypothesis(sample,parameters)#calculate the per sample predicted output\n",
        "    error,mse_error = cost(predicted_output,actutal_output,m)#calculate error for each testing sample\n",
        "    total_error += mse_error #sumup the error from each testing sample\n",
        "  total_error = (total_error/len(test_input))#average error\n",
        "  return total_error"
      ],
      "metadata": {
        "id": "Ai424tgni-b2"
      },
      "execution_count": 20,
      "outputs": []
    },
    {
      "cell_type": "markdown",
      "source": [
        "### **7. Model training**"
      ],
      "metadata": {
        "id": "R3q1OZc5AyH3"
      }
    },
    {
      "cell_type": "code",
      "source": [
        "epochs = 25000\n",
        "learning_rate = 0.0005\n",
        "m = 1 #batch_size=1 since its stochastic gradient descent algorithm\n",
        "#calulate the number of features and initialize all the model parameters to 0\n",
        "parameters = [0.0 for i in range( len(train_input[0])+1)]\n",
        "#define the lists for graph plot\n",
        "train_error_list = [ ]\n",
        "test_error_list = [ ]\n",
        "#start the learning algorithm\n",
        "best_error,best_epoch,best_parameters = optimization(train_input,train_output,test_input,test_output,learning_rate,parameters,epochs,m)\n",
        "print(\"\\n\\n\\n-----------------------------------------------------Training Finished-----------------------------------------------------\\n\")\n",
        "print(\"The Best testing error:\",best_error,\"is at epoch:\", best_epoch,\"with parameters values\",best_parameters)\n",
        "print(\"\\n---------------------------------------------------------------------------------------------------------------------------\")"
      ],
      "metadata": {
        "id": "WJQum-lpi-eY",
        "colab": {
          "base_uri": "https://localhost:8080/"
        },
        "outputId": "1df995cd-b448-44b5-9fa3-682a76f52eb8"
      },
      "execution_count": 21,
      "outputs": [
        {
          "output_type": "stream",
          "name": "stdout",
          "text": [
            "Epoch: 2000 Training error: 0.6751715413266479 Testing_error: 1.183341917528965 Parameters: [-0.255538575759327, 9.485931764649, 6.078472111746896, 8.47518648378849]\n",
            "Epoch: 4000 Training error: 0.6742278755388742 Testing_error: 1.1764871600965758 Parameters: [-0.38363349332072405, 9.489784692176048, 6.0786361313358785, 8.489563304720935]\n",
            "Epoch: 6000 Training error: 0.6742003164773049 Testing_error: 1.175968080596902 Parameters: [-0.3936962887428751, 9.490087367896683, 6.078649016277748, 8.490692709467186]\n",
            "Epoch: 8000 Training error: 0.6741984389235399 Testing_error: 1.1759274228907803 Parameters: [-0.3944867951394988, 9.490111145294827, 6.07865002848446, 8.490781432494813]\n",
            "Epoch: 10000 Training error: 0.6741982932016067 Testing_error: 1.1759242296689814 Parameters: [-0.39454889521573566, 9.490113013183876, 6.0786501080007165, 8.490788402339469]\n",
            "Epoch: 12000 Training error: 0.6741982817650337 Testing_error: 1.1759239788225648 Parameters: [-0.39455377363228045, 9.490113159920252, 6.078650114247313, 8.490788949871897]\n",
            "Epoch: 14000 Training error: 0.6741982808666698 Testing_error: 1.1759239591167399 Parameters: [-0.3945541568676921, 9.490113171447494, 6.078650114738017, 8.490788992884577]\n",
            "Epoch: 16000 Training error: 0.6741982807960991 Testing_error: 1.1759239575687033 Parameters: [-0.3945541869736474, 9.49011317235303, 6.078650114776581, 8.490788996263545]\n",
            "Epoch: 18000 Training error: 0.6741982807905543 Testing_error: 1.1759239574471043 Parameters: [-0.3945541893386998, 9.490113172424172, 6.07865011477959, 8.490788996528988]\n",
            "Epoch: 20000 Training error: 0.6741982807901219 Testing_error: 1.1759239574375986 Parameters: [-0.39455418952452476, 9.490113172429727, 6.078650114779848, 8.49078899654986]\n",
            "Epoch: 22000 Training error: 0.6741982807900848 Testing_error: 1.1759239574367917 Parameters: [-0.39455418953910915, 9.490113172430192, 6.078650114779855, 8.490788996551487]\n",
            "Epoch: 24000 Training error: 0.6741982807900817 Testing_error: 1.1759239574367288 Parameters: [-0.3945541895403048, 9.490113172430219, 6.0786501147799274, 8.490788996551608]\n",
            "\n",
            "\n",
            "\n",
            "-----------------------------------------------------Training Finished-----------------------------------------------------\n",
            "\n",
            "The Best testing error: 1.1759239574367126 is at epoch: 23606 with parameters values [-0.3945541895403048, 9.490113172430219, 6.0786501147799274, 8.490788996551608]\n",
            "\n",
            "---------------------------------------------------------------------------------------------------------------------------\n"
          ]
        }
      ]
    },
    {
      "cell_type": "markdown",
      "source": [
        "### **8. Graph plots to visualize the training and testing errors**"
      ],
      "metadata": {
        "id": "biQbaqKqA6Mu"
      }
    },
    {
      "cell_type": "code",
      "source": [
        "#import the library to plot the graph\n",
        "import matplotlib.pyplot as plt\n",
        "#copy the data for plotting\n",
        "epochs_num = list(range(1, epochs+1))\n",
        "x = epochs_num\n",
        "y1 = train_error_list\n",
        "y2 = test_error_list\n",
        "#create a figure with subplots and specify figsize\n",
        "fig, axes = plt.subplots(nrows=1, ncols=2, figsize=(10, 4))\n",
        "#plot the first subplot for training and add legend and axis labels\n",
        "axes[0].plot(x, y1)\n",
        "axes[0].set_title('Training error Vs Epochs')\n",
        "axes[0].set_xlabel('Epochs')\n",
        "axes[0].set_ylabel('Training error')\n",
        "#plot the second subplot for testing and add legend and axis labels\n",
        "axes[1].plot(x, y2)\n",
        "axes[1].set_title('Testing error Vs Epochs')\n",
        "axes[1].set_xlabel('Epochs')\n",
        "axes[1].set_ylabel('Testing error')\n",
        "plt.tight_layout()\n",
        "#show the plots\n",
        "plt.show()"
      ],
      "metadata": {
        "colab": {
          "base_uri": "https://localhost:8080/",
          "height": 407
        },
        "id": "FFehdYdUwQ_F",
        "outputId": "9c9fa8af-c3fd-4f1e-f86d-c1e2913bc82b"
      },
      "execution_count": 22,
      "outputs": [
        {
          "output_type": "display_data",
          "data": {
            "text/plain": [
              "<Figure size 1000x400 with 2 Axes>"
            ],
            "image/png": "[encoded data removed]"
          },
          "metadata": {}
        }
      ]
    },
    {
      "cell_type": "markdown",
      "source": [
        "### **9. Linear Regresion with Scikit library**"
      ],
      "metadata": {
        "id": "GK2uB6-uBG40"
      }
    },
    {
      "cell_type": "code",
      "source": [
        "#import the Linear Regression from sklearn\n",
        "from sklearn.linear_model import LinearRegression\n",
        "#import the mse loss function\n",
        "from sklearn.metrics import mean_squared_error\n",
        "#create linear regression object\n",
        "model = LinearRegression()\n",
        "#train the model using the training dataset\n",
        "model.fit(train_input, train_output)\n",
        "#make predictions on the testing data\n",
        "y_pred = model.predict(test_input)\n",
        "#calculate the Mean Squared Error on testing dataset\n",
        "mse = mean_squared_error(test_output, y_pred)\n",
        "print(\"The testing error is:\", mse/2,\"with intercept:\", model.intercept_,\"and coefficients:\", model.coef_)"
      ],
      "metadata": {
        "colab": {
          "base_uri": "https://localhost:8080/"
        },
        "id": "FI30hebkwRi1",
        "outputId": "5882d694-2f6b-4bb0-c86c-d6ed4a192296"
      },
      "execution_count": 23,
      "outputs": [
        {
          "output_type": "stream",
          "name": "stdout",
          "text": [
            "The testing error is: 1.2169218827800505 with intercept: -0.4080644275995269 and coefficients: [9.49049716 6.06819016 8.48657175]\n"
          ]
        }
      ]
    },
    {
      "cell_type": "markdown",
      "source": [
        "### **10. Cross-check whether our cost calculation function has correctly predicted the error by substituting the optimized model parameters from our stochastic gradient descent algorithm into the scikit model**"
      ],
      "metadata": {
        "id": "7sHrV9h9BJFa"
      }
    },
    {
      "cell_type": "code",
      "source": [
        "#load the parameters with least testing error from our Stochastic Gradient Descent implementation\n",
        "model.intercept_,model.coef_[0],model.coef_[1],model.coef_[2] = [-0.3945541895403048, 9.490113172430219, 6.0786501147799274, 8.490788996551608]\n",
        "#make predictions on the testing data\n",
        "y_pred = model.predict(test_input)\n",
        "#calculate the Mean Squared Error on testing dataset\n",
        "mse = mean_squared_error(test_output, y_pred)\n",
        "print(\"The testing error is:\", mse/2,\"with intercept:\", model.intercept_,\"and coefficients:\", model.coef_)"
      ],
      "metadata": {
        "colab": {
          "base_uri": "https://localhost:8080/"
        },
        "id": "W226Y0qXwRo2",
        "outputId": "ad40213f-1872-4d53-c413-8069acd0834b"
      },
      "execution_count": 24,
      "outputs": [
        {
          "output_type": "stream",
          "name": "stdout",
          "text": [
            "The testing error is: 1.1759239574367335 with intercept: -0.3945541895403048 and coefficients: [9.49011317 6.07865011 8.490789  ]\n"
          ]
        }
      ]
    }
  ]
}