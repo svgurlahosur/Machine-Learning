{
  "nbformat": 4,
  "nbformat_minor": 0,
  "metadata": {
    "colab": {
      "provenance": []
    },
    "kernelspec": {
      "name": "python3",
      "display_name": "Python 3"
    },
    "language_info": {
      "name": "python"
    }
  },
  "cells": [
    {
      "cell_type": "markdown",
      "source": [
        "### **1. Data Collection**"
      ],
      "metadata": {
        "id": "27H6fhl_FK-b"
      }
    },
    {
      "cell_type": "code",
      "source": [
        "#import essential library to load dataset\n",
        "import pandas as pd\n",
        "#importing the dataset\n",
        "train_dataset = pd.read_csv('./dataset/train_salary.csv')\n",
        "test_dataset = pd.read_csv('./dataset/test_salary.csv')\n",
        "#Copy of training dataset excluding the last column\n",
        "train_input = train_dataset.iloc[:, :-1].values\n",
        "#copy of last column from training dataset\n",
        "train_output = train_dataset.iloc[:, -1].values\n",
        "#copy of testing dataset excluding the last column\n",
        "test_input = test_dataset.iloc[:, :-1].values\n",
        "#copy of last column from testing dataset\n",
        "test_output = test_dataset.iloc[:, -1].values"
      ],
      "metadata": {
        "id": "m5yo7FU7FLUb"
      },
      "execution_count": null,
      "outputs": []
    },
    {
      "cell_type": "markdown",
      "source": [
        "### **2. Model/hypothesis represenation**"
      ],
      "metadata": {
        "id": "KRWOPzzLFTKX"
      }
    },
    {
      "cell_type": "code",
      "source": [
        "def hypothesis(batch_input, parameter):\n",
        "  pred_output = [ ]\n",
        "  for i in range(len(batch_input)):#iterate through all the samples in the current batch of inputs\n",
        "    output_inter = parameter[0] #calculate theta0*x0 (x0 value is 1)\n",
        "    for n in range(batch_input[0].size): #calculate the number of features\n",
        "      output_inter += parameter[n+1] * batch_input[i][n] #calculate theta1*x1 + theta2*x2 .. . .thetan*xn\n",
        "    pred_output.extend([output_inter])\n",
        "  return pred_output"
      ],
      "metadata": {
        "id": "AmHELpt8n79T"
      },
      "execution_count": 8,
      "outputs": []
    },
    {
      "cell_type": "markdown",
      "source": [
        "### **3. Cost function**"
      ],
      "metadata": {
        "id": "HAPsDOBLFYVg"
      }
    },
    {
      "cell_type": "code",
      "source": [
        "def cost(pred_output,batch_output):\n",
        "  error = (pred_output - batch_output)\n",
        "  mse_error = (1/2) * (error**2) #calculate error against the number of samples in current batch of inputs\n",
        "  return error, sum(mse_error)  #error value is for parameter updation and mse_error is to measure the average error at every epoch"
      ],
      "metadata": {
        "id": "0RHgsV89n8Aj"
      },
      "execution_count": 9,
      "outputs": []
    },
    {
      "cell_type": "markdown",
      "source": [
        "### **4. Optimization of model parameters**"
      ],
      "metadata": {
        "id": "2Ffk7_2CFZ_C"
      }
    },
    {
      "cell_type": "code",
      "source": [
        "def gradient_descent(error,parameters,learning_rate,batch_input):\n",
        "  parameters[0] = parameters[0] - (learning_rate * (sum(error)/len(batch_input))) #update theta0 against all the input samples\n",
        "  for n in range(batch_input[0].size):\n",
        "    interim = 0\n",
        "    for m in range(len(batch_input)):\n",
        "      interim += error[m] * batch_input[m][n]\n",
        "    interim /= len(batch_input)\n",
        "    parameters[n + 1] = parameters[n + 1] - (learning_rate * interim) #update theta1, theta2, , ,, depending upon the number of features\n",
        "  return parameters"
      ],
      "metadata": {
        "id": "uB5124o1n8DN"
      },
      "execution_count": 10,
      "outputs": []
    },
    {
      "cell_type": "markdown",
      "source": [
        "### **5. Mini batch gradient descent:**"
      ],
      "metadata": {
        "id": "jJ0unrP2FdIG"
      }
    },
    {
      "cell_type": "code",
      "source": [
        "def optimization(training_input,training_output,testing_input,testing_output,batch_size,learning_rate,parameters,epochs):\n",
        "  steps = len(train_input)/batch_size #calculate the number of steps required in each epoch\n",
        "  input_batches_data = [ ]\n",
        "  output_batches_data = [ ]\n",
        "  best_error = 9999999999999999\n",
        "  test_error = 0\n",
        "  for i in range(int(steps)): #create the input and output for each step\n",
        "    start_point = i*batch_size\n",
        "    end_point = ((i+1)*(batch_size))\n",
        "    input_batches_data.append(train_input[start_point:end_point])\n",
        "    output_batches_data.append(train_output[start_point:end_point])\n",
        "  if len(training_input)%batch_size:\n",
        "    start_point = (int(steps))*(batch_size)\n",
        "    input_batches_data.append(train_input[start_point:])\n",
        "    output_batches_data.append(train_output[start_point:])\n",
        "    steps = int(steps) + 1\n",
        "  steps = int(steps)\n",
        "  for epoch in range(epochs):\n",
        "    total_error = 0\n",
        "    for step in range(steps):\n",
        "      pred_output = hypothesis(input_batches_data[step],parameters) #calculate output with present value of parameters\n",
        "      error,mse_error = cost(pred_output,output_batches_data[step]) #calculate error between predicted output and actual output\n",
        "      parameters = gradient_descent(error,parameters,learning_rate,input_batches_data[step]) #use the error to update the model parameters\n",
        "      total_error += mse_error\n",
        "    total_error = total_error/len(training_input)\n",
        "    train_error_list.append(total_error) #append the mse_error for graph plot\n",
        "    test_error = test_model(test_input,test_output,parameters) #calculate test error\n",
        "    test_error_list.append(test_error) #append the test error for graph plot\n",
        "    if ((epoch+1)%2000==0):#print training progress after every 2000 epochs and replace 2000 by 1 to print progress after every epoch\n",
        "      print(\"Epoch:\",epoch+1, \"Training error:\",total_error,\"Testing error:\",test_error, \"Parameters:\",parameters)\n",
        "    if(best_error > test_error and test_error>=0.0): # copy the best values during the training from epoch 1 till last epoch\n",
        "      best_error=test_error\n",
        "      best_epoch=epoch+1\n",
        "      best_parameters=parameters\n",
        "  return best_error,best_epoch,best_parameters"
      ],
      "metadata": {
        "id": "qH64Wa1xoLXq"
      },
      "execution_count": 11,
      "outputs": []
    },
    {
      "cell_type": "markdown",
      "source": [
        "### **6. Model testing**"
      ],
      "metadata": {
        "id": "Cq_V5xJqFjeM"
      }
    },
    {
      "cell_type": "code",
      "source": [
        "def test_model(testing_input,testing_output,parameters):\n",
        "  total_error = 0\n",
        "  predicted_output = hypothesis(testing_input,parameters)#calculate the per sample predicted output\n",
        "  error,mse_error = cost(predicted_output,testing_output)#calculate error for each testing sample\n",
        "  total_error = (mse_error) / len(testing_input)\n",
        "  return total_error"
      ],
      "metadata": {
        "id": "BWYnNnaEn8GH"
      },
      "execution_count": 12,
      "outputs": []
    },
    {
      "cell_type": "markdown",
      "source": [
        "### **7. Model training**"
      ],
      "metadata": {
        "id": "NJeojTsCFm0-"
      }
    },
    {
      "cell_type": "code",
      "source": [
        "epochs = 25000\n",
        "learning_rate = 0.0005\n",
        "parameters = [0.0 for i in range(len(train_input[0])+1)]\n",
        "train_error_list = [ ]\n",
        "test_error_list = [ ]\n",
        "batch_size = 10\n",
        "if batch_size<=len(train_input):\n",
        "  best_error,best_epoch,best_parameters = optimization(train_input,train_output,test_input,test_output,batch_size,learning_rate,parameters,epochs)\n",
        "  print(\"\\n\\n\\n-----------------------------------------------------Training Finished-----------------------------------------------------\\n\")\n",
        "  print(\"The Best testing error:\",best_error,\"is at epoch:\", best_epoch,\"with parameters values\",best_parameters)\n",
        "  print(\"\\n---------------------------------------------------------------------------------------------------------------------------\")\n",
        "else:\n",
        "  print(\"Batch size is greater than the input size\")"
      ],
      "metadata": {
        "colab": {
          "base_uri": "https://localhost:8080/"
        },
        "id": "WiEmhC7XoHyD",
        "outputId": "43c1d422-a1e1-477b-94f9-c1bcf9a8ca21"
      },
      "execution_count": 13,
      "outputs": [
        {
          "output_type": "stream",
          "name": "stdout",
          "text": [
            "Epoch: 2000 Training error: 0.7040898427204569 Testing error: 1.3447045816520464 Parameters: [0.9284296654923968, 9.456163219387943, 6.021824708004713, 8.337882647479603]\n",
            "Epoch: 4000 Training error: 0.6812182443313816 Testing error: 1.3106175843240728 Parameters: [0.6347282753942884, 9.458742335844848, 6.06111696179911, 8.366234508547919]\n",
            "Epoch: 6000 Training error: 0.6677395825751841 Testing error: 1.2863664712017353 Parameters: [0.4057961265840483, 9.465664236728447, 6.063162865309683, 8.392757122419733]\n",
            "Epoch: 8000 Training error: 0.6595076758956008 Testing error: 1.2684685392419126 Parameters: [0.2270030796519673, 9.471131902946308, 6.0644013467175135, 8.413526551061588]\n",
            "Epoch: 10000 Training error: 0.6544785243364034 Testing error: 1.2551230200839079 Parameters: [0.08736366330373692, 9.47540298772195, 6.065364105748205, 8.429748410396606]\n",
            "Epoch: 12000 Training error: 0.6514047105119127 Testing error: 1.245086065607222 Parameters: [-0.02169637405904135, 9.478738765220184, 6.06611597536936, 8.44241788334435]\n",
            "Epoch: 14000 Training error: 0.649524956026634 Testing error: 1.2374825695875082 Parameters: [-0.10687355509051753, 9.48134404708166, 6.066703193739694, 8.45231289190037]\n",
            "Epoch: 16000 Training error: 0.6483746024483974 Testing error: 1.2316877897262952 Parameters: [-0.17339794243574871, 9.483378803077654, 6.067161818233878, 8.460041010794555]\n",
            "Epoch: 18000 Training error: 0.6476699878983687 Testing error: 1.2272496158327109 Parameters: [-0.2253542769619227, 9.48496797161311, 6.0675200093962935, 8.466076763193769]\n",
            "Epoch: 20000 Training error: 0.6472379050002558 Testing error: 1.223836794523868 Parameters: [-0.26593278967165307, 9.486209131063662, 6.067799760937064, 8.470790757313605]\n",
            "Epoch: 22000 Training error: 0.6469725606565117 Testing error: 1.2212039410549742 Parameters: [-0.29762508876762683, 9.487178491296612, 6.068018250204192, 8.474472442560455]\n",
            "Epoch: 24000 Training error: 0.6468093137886253 Testing error: 1.2191675368841388 Parameters: [-0.32237714977028675, 9.487935573121023, 6.068188892909902, 8.477347882349369]\n",
            "\n",
            "\n",
            "\n",
            "-----------------------------------------------------Training Finished-----------------------------------------------------\n",
            "\n",
            "The Best testing error: 1.21832834776914 is at epoch: 25000 with parameters values [-0.3326394806073687, 9.488249463109907, 6.06825964224675, 8.47854005436334]\n",
            "\n",
            "---------------------------------------------------------------------------------------------------------------------------\n"
          ]
        }
      ]
    },
    {
      "cell_type": "markdown",
      "source": [
        "### **8. Graph plots to visualize the training and testing errors**"
      ],
      "metadata": {
        "id": "nbl0qPEQFspY"
      }
    },
    {
      "cell_type": "code",
      "source": [
        "#import the library to plot the graph\n",
        "import matplotlib.pyplot as plt\n",
        "#copy the data for plotting\n",
        "epochs_num = list(range(1, epochs+1))\n",
        "x = epochs_num\n",
        "y1 = train_error_list\n",
        "y2 = test_error_list\n",
        "#create a figure with subplots and specify figsize\n",
        "fig, axes = plt.subplots(nrows=1, ncols=2, figsize=(10, 4))\n",
        "#plot the first subplot for training and add legend and axis labels\n",
        "axes[0].plot(x, y1)\n",
        "axes[0].set_title('Training error Vs Epochs')\n",
        "axes[0].set_xlabel('Epochs')\n",
        "axes[0].set_ylabel('Training error')\n",
        "#plot the second subplot for testing and add legend and axis labels\n",
        "axes[1].plot(x, y2)\n",
        "axes[1].set_title('Testing error Vs Epochs')\n",
        "axes[1].set_xlabel('Epochs')\n",
        "axes[1].set_ylabel('Testing error')\n",
        "plt.tight_layout()\n",
        "#show the plots\n",
        "plt.show()"
      ],
      "metadata": {
        "colab": {
          "base_uri": "https://localhost:8080/",
          "height": 407
        },
        "id": "dsikS5NW6ih4",
        "outputId": "3265e793-8bd6-42d7-c1a2-1fd76fb61f2e"
      },
      "execution_count": 14,
      "outputs": [
        {
          "output_type": "display_data",
          "data": {
            "text/plain": [
              "<Figure size 1000x400 with 2 Axes>"
            ],
            "image/png": "[encoded data removed]"
          },
          "metadata": {}
        }
      ]
    }
  ]
}