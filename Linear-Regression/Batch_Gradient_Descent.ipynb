{
  "nbformat": 4,
  "nbformat_minor": 0,
  "metadata": {
    "colab": {
      "provenance": []
    },
    "kernelspec": {
      "name": "python3",
      "display_name": "Python 3"
    },
    "language_info": {
      "name": "python"
    }
  },
  "cells": [
    {
      "cell_type": "markdown",
      "source": [
        "### **1. Data Collection**"
      ],
      "metadata": {
        "id": "f5tHjv_DGvWu"
      }
    },
    {
      "cell_type": "code",
      "source": [
        "#import essential library to load dataset\n",
        "import pandas as pd\n",
        "#importing the dataset\n",
        "train_dataset = pd.read_csv('./dataset/train_salary.csv')\n",
        "test_dataset = pd.read_csv('./dataset/test_salary.csv')\n",
        "#copy of training dataset excluding the last column\n",
        "train_input = train_dataset.iloc[:, :-1].values\n",
        "#copy of last column from training dataset\n",
        "train_output = train_dataset.iloc[:, -1].values\n",
        "#copy of testing dataset excluding the last column\n",
        "test_input = test_dataset.iloc[:, :-1].values\n",
        "#copy of last column from testing dataset\n",
        "test_output = test_dataset.iloc[:, -1].values"
      ],
      "metadata": {
        "id": "ytUh7FbcGvng"
      },
      "execution_count": null,
      "outputs": []
    },
    {
      "cell_type": "markdown",
      "source": [
        "### **2. Model/hypothesis represenation**"
      ],
      "metadata": {
        "id": "hsm2jCyhG_3p"
      }
    },
    {
      "cell_type": "code",
      "source": [
        "def hypothesis(train_input, parameter):\n",
        "  pred_output = [ ]\n",
        "  for i in range(len(train_input)):#iterate through all the samples\n",
        "    output_inter = parameter[0] # calculate theta0*x0 (x0 value is 1)\n",
        "    for n in range(train_input[0].size): #calculate the number of features\n",
        "      output_inter += parameter[n+1] * train_input[i][n] #calculate theta1*x1 + theta2*x2 .. . .thetan*xn\n",
        "    pred_output.extend([output_inter])\n",
        "  return pred_output"
      ],
      "metadata": {
        "id": "TF06vCxDq7st"
      },
      "execution_count": 3,
      "outputs": []
    },
    {
      "cell_type": "markdown",
      "source": [
        "### **3. Cost function**"
      ],
      "metadata": {
        "id": "iBCdoyPKHBJ0"
      }
    },
    {
      "cell_type": "code",
      "source": [
        "def cost(pred_output,train_output,m):\n",
        "  error = (pred_output - train_output)\n",
        "  mse_error = (1/(2*m)) * (error**2) #m is number of samples itself since it is batch gradient descent optimization\n",
        "  return error,sum(mse_error) #error value is for parameter updation and mse_error is to measure the average error at every epoch"
      ],
      "metadata": {
        "id": "erBlVMi_q7v0"
      },
      "execution_count": 4,
      "outputs": []
    },
    {
      "cell_type": "markdown",
      "source": [
        "### **4. Optimization of model parameters**"
      ],
      "metadata": {
        "id": "-pcU1nArHD8I"
      }
    },
    {
      "cell_type": "code",
      "source": [
        "def gradient_descent(error,parameters,learning_rate,input,m):\n",
        "  parameters[0] = parameters[0] - (learning_rate * (sum(error)/len(input))) #update theta0 against all the input samples\n",
        "  for n in range(input[0].size):\n",
        "    interim = 0\n",
        "    for m in range(len(input)):\n",
        "      interim += error[m] * input[m][n]\n",
        "    interim /= len(input)\n",
        "    parameters[n + 1] = parameters[n + 1] - (learning_rate * interim) #update theta1, theta2, , ,, depending upon the number of features\n",
        "  return parameters"
      ],
      "metadata": {
        "id": "s7mihUrTq7zD"
      },
      "execution_count": 5,
      "outputs": []
    },
    {
      "cell_type": "markdown",
      "source": [
        "### **5. Batch gradient descent:**"
      ],
      "metadata": {
        "id": "mfcEBbJ7HIrz"
      }
    },
    {
      "cell_type": "code",
      "source": [
        "def optimization(train_input,train_output,test_input,test_output,learning_rate,parameters,epochs,m):\n",
        "  best_error = 9999999999999999\n",
        "  test_error = 0\n",
        "  for epoch in range(epochs):\n",
        "    error = 0\n",
        "    pred_output = hypothesis(train_input,parameters) #calculate output with present value of parameters\n",
        "    error,mse_error = cost(pred_output,train_output,m) #calculate error between predicted output and actual output\n",
        "    parameters = gradient_descent(error,parameters,learning_rate,train_input,m) # use the error to update the model parameters\n",
        "    train_error_list.append(mse_error) #append the mse_error for graph plot\n",
        "    test_error = test_model(test_input,test_output,parameters,m) #calculate test error\n",
        "    test_error_list.append(test_error) #append the test error for graph plot\n",
        "    if ((epoch+1)%2000==0):#print training progress after every 10 epochs and replace 10 by 1 to print progress after every epoch\n",
        "      print(\"Epoch:\",epoch+1, \"Training error:\",mse_error,\"Testing error:\",test_error, \"Parameters:\",parameters)\n",
        "    if(best_error > test_error and test_error>=0.0): #copy the best values during the training from epoch 1 till last epoch\n",
        "      best_error=test_error\n",
        "      best_epoch=epoch+1\n",
        "      best_parameters=parameters\n",
        "  return best_error,best_epoch,best_parameters"
      ],
      "metadata": {
        "id": "s2pxnWqfq72F"
      },
      "execution_count": 6,
      "outputs": []
    },
    {
      "cell_type": "markdown",
      "source": [
        "### **6. Model testing**"
      ],
      "metadata": {
        "id": "oX25XdJrHM8B"
      }
    },
    {
      "cell_type": "code",
      "source": [
        "def test_model(testing_input,testing_output,parameters,m):\n",
        "  total_error = 0\n",
        "  predicted_output = hypothesis(testing_input,parameters)#calculate the per sample predicted output\n",
        "  error,mse_error = cost(predicted_output,testing_output,m)#calculate error for each testing sample\n",
        "  total_error = (mse_error * m)/len(testing_input)\n",
        "  return total_error"
      ],
      "metadata": {
        "id": "pKJIHEgGq74x"
      },
      "execution_count": 7,
      "outputs": []
    },
    {
      "cell_type": "markdown",
      "source": [
        "### **7. Model training**"
      ],
      "metadata": {
        "id": "BtE8WODKHPZ-"
      }
    },
    {
      "cell_type": "code",
      "source": [
        "epochs = 25000\n",
        "learning_rate = 0.0005\n",
        "parameters = [0.0 for i in range(len(train_input[0])+1)]\n",
        "train_error_list = [ ]\n",
        "test_error_list = [ ]\n",
        "m = len(train_input)\n",
        "best_error,best_epoch,best_parameters = optimization(train_input,train_output,test_input,test_output,learning_rate,parameters,epochs,m)\n",
        "print(\"\\n\\n\\n-----------------------------------------------------Training Finished-----------------------------------------------------\\n\")\n",
        "print(\"The Best testing error:\",best_error,\"is at epoch:\", best_epoch,\"with parameters values\",best_parameters)\n",
        "print(\"\\n---------------------------------------------------------------------------------------------------------------------------\")"
      ],
      "metadata": {
        "colab": {
          "base_uri": "https://localhost:8080/"
        },
        "id": "DB10nMn3q77n",
        "outputId": "7292f2e5-27db-48b4-d2aa-57e3edfeb210"
      },
      "execution_count": 8,
      "outputs": [
        {
          "output_type": "stream",
          "name": "stdout",
          "text": [
            "Epoch: 2000 Training error: 1.3110429361799907 Testing error: 1.827374132830728 Parameters: [1.2132432260231962, 9.610665072930354, 5.047833116391424, 8.45565665536054]\n",
            "Epoch: 4000 Training error: 0.7826871855490842 Testing error: 1.426901337495973 Parameters: [1.1067663437978328, 9.501728531738069, 5.718663467725672, 8.362539172810171]\n",
            "Epoch: 6000 Training error: 0.7159823332401899 Testing error: 1.3699671036461387 Parameters: [1.0131392299697488, 9.46643559737364, 5.944219340832607, 8.338425297489566]\n",
            "Epoch: 8000 Training error: 0.7021150572734176 Testing error: 1.3536906412157972 Parameters: [0.927251677747022, 9.456250130890057, 6.0203222356506885, 8.336687507858423]\n",
            "Epoch: 10000 Training error: 0.6949356709039468 Testing error: 1.3432063731782728 Parameters: [0.8472114648793407, 9.454393030551694, 6.046238902919347, 8.342080555911252]\n",
            "Epoch: 12000 Training error: 0.6891600359474331 Testing error: 1.334206790313437 Parameters: [0.7721896063420418, 9.455238097233151, 6.055288732654424, 8.349510412576214]\n",
            "Epoch: 14000 Training error: 0.6841175766393074 Testing error: 1.3260317276143938 Parameters: [0.7017255316011677, 9.456902506943212, 6.058656408487775, 8.35728858995976]\n",
            "Epoch: 16000 Training error: 0.6796661745159945 Testing error: 1.3185127005169934 Parameters: [0.6354932042717697, 9.458759534490959, 6.060097219207017, 8.364868369750832]\n",
            "Epoch: 18000 Training error: 0.6757309521174356 Testing error: 1.311569421350107 Parameters: [0.5732219731627016, 9.460603741044766, 6.060872769310039, 8.37208506455127]\n",
            "Epoch: 20000 Training error: 0.6722514223532777 Testing error: 1.305146056484095 Parameters: [0.514669396239616, 9.462370795441089, 6.0614076104037435, 8.378901089641598]\n",
            "Epoch: 22000 Training error: 0.6691747455739188 Testing error: 1.299197045805263 Parameters: [0.4596115452526741, 9.464043452222931, 6.061845278849634, 8.385320465588213]\n",
            "Epoch: 24000 Training error: 0.6664542722521682 Testing error: 1.29368273033805 Parameters: [0.40783921184035854, 9.465620010469644, 6.062234928744202, 8.391360184795252]\n",
            "\n",
            "\n",
            "\n",
            "-----------------------------------------------------Training Finished-----------------------------------------------------\n",
            "\n",
            "The Best testing error: 1.2910773647399605 is at epoch: 25000 with parameters values [0.3831233063466342, 9.46637319935077, 6.062417726040973, 8.3942440243876]\n",
            "\n",
            "---------------------------------------------------------------------------------------------------------------------------\n"
          ]
        }
      ]
    },
    {
      "cell_type": "markdown",
      "source": [
        "### **8. Graph plots to visualize the training and testing errors**"
      ],
      "metadata": {
        "id": "f0ix_d9KHT4l"
      }
    },
    {
      "cell_type": "code",
      "source": [
        "#import the library to plot the graph\n",
        "import matplotlib.pyplot as plt\n",
        "#copy the data for plotting\n",
        "epochs_num = list(range(1, epochs+1))\n",
        "x = epochs_num\n",
        "y1 = train_error_list\n",
        "y2 = test_error_list\n",
        "#create a figure with subplots and specify figsize\n",
        "fig, axes = plt.subplots(nrows=1, ncols=2, figsize=(10, 4))\n",
        "#plot the first subplot for training and add legend and axis labels\n",
        "axes[0].plot(x, y1)\n",
        "axes[0].set_title('Training error Vs Epochs')\n",
        "axes[0].set_xlabel('Epochs')\n",
        "axes[0].set_ylabel('Training error')\n",
        "#plot the second subplot for testing and add legend and axis labels\n",
        "axes[1].plot(x, y2)\n",
        "axes[1].set_title('Testing error Vs Epochs')\n",
        "axes[1].set_xlabel('Epochs')\n",
        "axes[1].set_ylabel('Testing error')\n",
        "plt.tight_layout()\n",
        "#show the plots\n",
        "plt.show()"
      ],
      "metadata": {
        "id": "z085NG5nbjSk",
        "colab": {
          "base_uri": "https://localhost:8080/",
          "height": 407
        },
        "outputId": "8bb5bc70-c671-4ca9-f39e-a95f61f289a1"
      },
      "execution_count": 9,
      "outputs": [
        {
          "output_type": "display_data",
          "data": {
            "text/plain": [
              "<Figure size 1000x400 with 2 Axes>"
            ],
            "image/png": "[encoded data removed]"
          },
          "metadata": {}
        }
      ]
    }
  ]
}